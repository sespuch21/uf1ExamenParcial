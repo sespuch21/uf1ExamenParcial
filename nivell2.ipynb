{
 "cells": [
  {
   "cell_type": "code",
   "execution_count": 3,
   "id": "b896ed61-4487-4f55-b350-49e7d70dc4f6",
   "metadata": {
    "autorun": true,
    "tags": []
   },
   "outputs": [],
   "source": [
    "String printBinary(String binary, int blockSize, String separator) {\n",
    "        List<String> result = new ArrayList<>();\n",
    "        int index = 0;\n",
    "        while (index < binary.length()) {\n",
    "            result.add(binary.substring(index, Math.min(index + blockSize, binary.length())));\n",
    "            index += blockSize;\n",
    "        }\n",
    "\n",
    "        return result.stream().collect(java.util.stream.Collectors.joining(separator));\n",
    "    }\n",
    "void intToBin(int input){\n",
    "    String result = Integer.toBinaryString(input);\n",
    "    String resultWithPadding = String.format(\"%32s\", result).replaceAll(\" \", \"0\");\n",
    "    System.out.println(printBinary(resultWithPadding, 4, \" \")); \n",
    "}"
   ]
  },
  {
   "cell_type": "markdown",
   "id": "54b801d8-b4b0-4b20-a67c-5b701d1e6f56",
   "metadata": {},
   "source": [
    "# Nivell 2"
   ]
  },
  {
   "cell_type": "markdown",
   "id": "6acb5fd8-9cfe-483a-8d6c-8e2b3f3b2692",
   "metadata": {},
   "source": [
    "## Pregunta 1"
   ]
  },
  {
   "cell_type": "markdown",
   "id": "42998526-bce2-4306-9a33-e618e8c5d05a",
   "metadata": {},
   "source": [
    "**Operadors shift**\n",
    "\n",
    "Executeu el seguent codi en una cel·la del notebook:\n",
    "\n",
    "```java\n",
    "intToBin(17);\n",
    "intToBin(17<<1);\n",
    "println(17<<1 == 17 * 2);\n",
    "println(17<<2 == 17 * 4);\n",
    "```\n",
    "\n",
    "Què retorna en cada cas? **Per què**? (**Raona la resposta**)"
   ]
  },
  {
   "cell_type": "code",
   "execution_count": null,
   "id": "1e241e28-fb81-4885-b03b-d5c1d4a1753a",
   "metadata": {},
   "outputs": [],
   "source": [
    "intToBin(17);\n",
    "intToBin(17<<1);\n",
    "println(17<<1 == 17 * 2);\n",
    "println(17<<2 == 17 * 4);"
   ]
  },
  {
   "cell_type": "markdown",
   "id": "99cdca44-50f9-464b-a8e7-9a9ea4dcee6a",
   "metadata": {},
   "source": [
    "Resposta:\n",
    "\n",
    "Primer ens retorna el numero 17 pero representat en forma binaria, en el segon cas ens retorna el numero 17 representat en forma binaria pero corregut un numero a la esquerra(s'ha afeguit el 0 de la dreta), en els altres 2 sols son dos booleans els cuals cuan es compleix la condicio retorna un true."
   ]
  },
  {
   "cell_type": "markdown",
   "id": "beac9e74-d4a2-481a-b351-db070966a91f",
   "metadata": {},
   "source": [
    "## Pregunta 2"
   ]
  },
  {
   "cell_type": "markdown",
   "id": "ab86a9cc-78b1-4d6b-af08-9d45d1d048be",
   "metadata": {},
   "source": [
    "Executa el següent codi, cada línia en una cel·la:\n",
    "\n",
    "```java\n",
    "intToBin(10);\n",
    "intToBin(10 & 10);\n",
    "intToBin(10 & 4);\n",
    "intToBin(10 | 4);\n",
    "intToBin(10 ^ 4);\n",
    "intToBin(~10);\n",
    "```\n",
    "\n",
    "Quins resultats obtens? **Per què**? (explica detalladament el perquè dels resultats obtinguts)"
   ]
  },
  {
   "cell_type": "code",
   "execution_count": 4,
   "id": "26029d33-e1ef-46be-ae8a-35c4998e9520",
   "metadata": {},
   "outputs": [
    {
     "name": "stdout",
     "output_type": "stream",
     "text": [
      "0000 0000 0000 0000 0000 0000 0000 1010\n",
      "0000 0000 0000 0000 0000 0000 0000 0000\n",
      "0000 0000 0000 0000 0000 0000 0000 1110\n",
      "0000 0000 0000 0000 0000 0000 0000 1110\n",
      "1111 1111 1111 1111 1111 1111 1111 0101\n"
     ]
    }
   ],
   "source": [
    "//Escriu i executa el codi aquíintToBin(10);\n",
    "intToBin(10 & 10);\n",
    "intToBin(10 & 4);\n",
    "intToBin(10 | 4);\n",
    "intToBin(10 ^ 4);\n",
    "intToBin(~10);"
   ]
  },
  {
   "cell_type": "markdown",
   "id": "80a32860-4a5b-45f8-96cf-945f298baaa6",
   "metadata": {},
   "source": [
    "Resposta:\n",
    "\n",
    "En els 4 primers casos son un exemple de porte logica el cual arribar 2 dades les tracte de diferents formas.\n"
   ]
  },
  {
   "cell_type": "markdown",
   "id": "b61701fd-7032-4adb-af2a-508e0b667371",
   "metadata": {},
   "source": [
    "## Exercici 1"
   ]
  },
  {
   "cell_type": "markdown",
   "id": "747e1fa9-08e4-4881-a3be-5feb4fdb1057",
   "metadata": {},
   "source": [
    "Escriu una funció a la qual li passem un array de char, i ens retorna **quants** dels elements de l'array són lletres majúscules:\n",
    "\n",
    "```java\n",
    "int countUpperCaseChars(char[] array){\n",
    "    //TODO\n",
    "}\n",
    "```\n",
    "\n",
    "Al següent enllaç podeu trobar la taula ASCII, que us ajudarà a resoldre aquest exercici:\n",
    "\n",
    "[Taula ASCII](https://www.asciitable.com/)\n",
    "\n"
   ]
  },
  {
   "cell_type": "code",
   "execution_count": null,
   "id": "5b3ac07b-ca13-404f-b00d-637f62457a4d",
   "metadata": {},
   "outputs": [],
   "source": [
    "int countUpperCaseChars(char[] array){\n",
    "    //TODO\n",
    "}\n",
    "\n",
    "//Les teves proves a continuació"
   ]
  },
  {
   "cell_type": "code",
   "execution_count": null,
   "id": "86931299-7584-4ce2-ad11-8cc68b751700",
   "metadata": {},
   "outputs": [],
   "source": []
  }
 ],
 "metadata": {
  "kernelspec": {
   "display_name": "Java 11",
   "language": "java",
   "name": "java"
  },
  "language_info": {
   "codemirror_mode": "java",
   "file_extension": ".jshell",
   "mimetype": "text/x-java-source",
   "name": "Java",
   "pygments_lexer": "java",
   "version": "11.0.11+9-Ubuntu-0ubuntu2.20.04"
  }
 },
 "nbformat": 4,
 "nbformat_minor": 5
}
