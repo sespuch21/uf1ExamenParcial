{
 "cells": [
  {
   "cell_type": "markdown",
   "id": "fdaa6fe5-a80d-4673-ab95-5859bbd0b6f2",
   "metadata": {},
   "source": [
    "# Nivell 1"
   ]
  },
  {
   "cell_type": "markdown",
   "id": "e3b4ea48-2cb1-4ff6-b2f0-c2a631d05d2b",
   "metadata": {},
   "source": [
    "## Pregunta 1"
   ]
  },
  {
   "cell_type": "markdown",
   "id": "048a569f-5546-474c-9108-fed430deba23",
   "metadata": {},
   "source": [
    "Executa el següent codi en una cel·la:\n",
    "\n",
    "```java\n",
    "byte b1 = (byte)127;\n",
    "byte b2 = (byte)149;\n",
    "println(b1);\n",
    "println(b2);\n",
    "```\n",
    "\n",
    "Quins resultats obtens? **Per què**?"
   ]
  },
  {
   "cell_type": "code",
   "execution_count": 1,
   "id": "d143d56f-09e0-4e9f-aac0-048accd4c1f8",
   "metadata": {},
   "outputs": [
    {
     "name": "stdout",
     "output_type": "stream",
     "text": [
      "127\n",
      "-107\n"
     ]
    }
   ],
   "source": [
    "//Escriu i executa el codi aquí\n",
    "byte b1 = (byte)127;\n",
    "byte b2 = (byte)149;\n",
    "println(b1);\n",
    "println(b2);"
   ]
  },
  {
   "cell_type": "markdown",
   "id": "e8e75e51-f5cb-46f5-8092-34f3145ed962",
   "metadata": {},
   "source": [
    "Resposta:\n",
    "\n",
    "Byte es una tipus de dade que pot almacenar 1 byte de tamañ, osigui sols pot arribar a representar el numero +127, aixo te una consecuencia que si añadim un numero mes gran que +127 causi alteracions en el numero, en aquet cas sabem que el ultim bit es 1 ja que ens apareix -107 y es negatiu. "
   ]
  },
  {
   "cell_type": "markdown",
   "id": "f3c3e485-34d2-4c5b-b299-111b37988088",
   "metadata": {},
   "source": [
    "## Pregunta 2"
   ]
  },
  {
   "cell_type": "markdown",
   "id": "403823e3-25df-4d72-8123-c6c28c971277",
   "metadata": {},
   "source": [
    "Executa el següent codi en una cel·la:\n",
    "\n",
    "```java\n",
    "var v1 = 10;\n",
    "var v2 = 10.0;\n",
    "println(v1);\n",
    "println(v2);\n",
    "```\n",
    "\n",
    "De quin tipus de dada són les variables v1 i v2? **Per què**?"
   ]
  },
  {
   "cell_type": "code",
   "execution_count": 2,
   "id": "07c33012-927c-4e69-8100-33d44ccb4422",
   "metadata": {},
   "outputs": [
    {
     "name": "stdout",
     "output_type": "stream",
     "text": [
      "10\n",
      "10.0\n"
     ]
    }
   ],
   "source": [
    "var v1 = 10;\n",
    "var v2 = 10.0;\n",
    "println(v1);\n",
    "println(v2);"
   ]
  },
  {
   "cell_type": "markdown",
   "id": "3dc0645e-1dad-4a19-aa2c-bb963db5cb94",
   "metadata": {},
   "source": [
    "Resposta:\n",
    "\n",
    "v1 es una variable de tipus integer, mestres la v2 es una variable de tipus double.\n",
    "Tot aixo hu causa per el .0 que li indica que es un numero decimal i que el guardi amb decimals.\n",
    "var es un tipus de variable indefinida, que hu fagui el programa sols quin tipus de dade encaixa amb el valor establit."
   ]
  },
  {
   "cell_type": "markdown",
   "id": "40d712d0-433b-450b-9150-de544e89f85f",
   "metadata": {},
   "source": [
    "Ara, executa:\n",
    "\n",
    "```java\n",
    "var v3 = v1 + v2;\n",
    "```\n",
    "De quin tipus de dada és la variable v3? **Per què** (què està passant en fer-se la suma)?"
   ]
  },
  {
   "cell_type": "code",
   "execution_count": 5,
   "id": "fb14fce1-6196-4e36-bc1c-f3afbdee22c5",
   "metadata": {},
   "outputs": [
    {
     "name": "stdout",
     "output_type": "stream",
     "text": [
      "20.0"
     ]
    }
   ],
   "source": [
    "var v3 = v1 + v2;\n",
    "print(v3)"
   ]
  },
  {
   "cell_type": "markdown",
   "id": "25d1ba13-d747-439d-b061-121e1a058578",
   "metadata": {},
   "source": [
    "Resposta:\n",
    "v3 es un tipus de variable de double, ja que el realitza una operacio es queda amb el tipus de dade que pugui complir els dos valors."
   ]
  },
  {
   "cell_type": "markdown",
   "id": "4f338da3-0585-47ee-9271-ad04cadb0720",
   "metadata": {},
   "source": [
    "## Pregunta 3"
   ]
  },
  {
   "cell_type": "markdown",
   "id": "2260437d-47e9-4709-b48a-f16ea3f70e0c",
   "metadata": {},
   "source": [
    "Executa el següent codi en una cel·la:\n",
    "\n",
    "```java\n",
    "var b = 65;\n",
    "println(b);\n",
    "b = 'B';\n",
    "println(b);\n",
    "\n",
    "var a = 'A';\n",
    "println(a);\n",
    "a = 66;\n",
    "println(a);\n",
    "```\n",
    "\n",
    "De quin tipus de dada són les variables b i a? **Per què**?"
   ]
  },
  {
   "cell_type": "code",
   "execution_count": 6,
   "id": "78b21702-c475-4aa9-ab6c-1997251eb0ad",
   "metadata": {},
   "outputs": [
    {
     "name": "stdout",
     "output_type": "stream",
     "text": [
      "65\n",
      "66\n",
      "A\n",
      "B\n"
     ]
    }
   ],
   "source": [
    "var b = 65;\n",
    "println(b);\n",
    "b = 'B';\n",
    "println(b);\n",
    "\n",
    "var a = 'A';\n",
    "println(a);\n",
    "a = 66;\n",
    "println(a);"
   ]
  },
  {
   "cell_type": "markdown",
   "id": "0e443e29-eefc-4943-9908-22e825121671",
   "metadata": {},
   "source": [
    "Resposta:\n",
    "\n",
    "De tipus char (Caracter) y al colocar-li un numero al tipus de dades char hu relaciona per defecta al codi ASCII axio causa que cuan coloquem el numero 65 ens guardi la valor en char i sera la A."
   ]
  },
  {
   "cell_type": "markdown",
   "id": "fc4c8446-8e5b-4df4-b9e4-82f7dfe73987",
   "metadata": {},
   "source": [
    "## Exercici 1"
   ]
  },
  {
   "cell_type": "markdown",
   "id": "63442660-fb03-4799-882c-27f866859437",
   "metadata": {},
   "source": [
    "#### Divisibilitat\n",
    "\n",
    "Un número enter A **és divisible** per un altre número enter B quan el resultat de la seva divisió dóna també un número enter (és a dir, un número sense decimals, o amb decimals igual a 0). Per exemple:"
   ]
  },
  {
   "cell_type": "code",
   "execution_count": 7,
   "id": "3b5726fb-ab2f-4ac1-b4a1-10334f1886a9",
   "metadata": {},
   "outputs": [
    {
     "name": "stdout",
     "output_type": "stream",
     "text": [
      "5.0\n",
      "7.5\n",
      "5.0\n"
     ]
    }
   ],
   "source": [
    "//10 és divisible per 2\n",
    "println(10.0 / 2);\n",
    "\n",
    "//15 NO és divisible per 2\n",
    "println(15.0 / 2);\n",
    "\n",
    "//15 sí és divisible per 3\n",
    "println(15.0 / 3);"
   ]
  },
  {
   "cell_type": "markdown",
   "id": "1ada6b49-5377-4b37-9d8f-68d4b40a53ca",
   "metadata": {},
   "source": [
    "Però la manera més ràpida de saber si un número enter A és divisible per un altre número enter B, no és fent-ne la divisió, sinó **calculant-ne el residu** de la divisió entera:\n",
    "\n",
    "- Si el residu dóna 0, A és divisible per B\n",
    "- Si el residu NO dóna 0, A NO és divisible per B\n",
    "\n",
    "En programació, es calcula el residu amb l'operació anomenada **mòdul**, que s'expressa amb el símbol ```%```. Per exemple:"
   ]
  },
  {
   "cell_type": "code",
   "execution_count": 8,
   "id": "31dbe3fc-2686-4426-8d51-190a9fead338",
   "metadata": {},
   "outputs": [
    {
     "name": "stdout",
     "output_type": "stream",
     "text": [
      "0\n"
     ]
    }
   ],
   "source": [
    "//El residu de 10 dividit entre 2 és 0, per tant 10 és divisible per 2\n",
    "println(10 % 2);"
   ]
  },
  {
   "cell_type": "code",
   "execution_count": 9,
   "id": "bd79d0cb-07d7-4b02-a785-0f29483ed5d2",
   "metadata": {},
   "outputs": [
    {
     "name": "stdout",
     "output_type": "stream",
     "text": [
      "1\n"
     ]
    }
   ],
   "source": [
    "//El residu de 15 dividit entre 2 NO és 0, per tant 15 NO és divisible per 2\n",
    "println(15 % 2);"
   ]
  },
  {
   "cell_type": "markdown",
   "id": "8aa66c99-bc67-4b7d-8958-202547fdd8dd",
   "metadata": {},
   "source": [
    "> **Tots els números enters són divisibles per sí mateixos i per 1**. Sigui N un número enter, sempre es compleix:\n",
    "\n",
    "```\n",
    "N % N == 0\n",
    "N % 1 == 0\n",
    "```"
   ]
  },
  {
   "cell_type": "markdown",
   "id": "7a4f0e41-f242-474e-8f00-db8254cf6903",
   "metadata": {},
   "source": [
    "#### Números primers\n",
    "\n",
    "Un número enter N és primer si només és divisible per sí mateix i per 1, és a dir, es compleix:\n",
    "\n",
    "```\n",
    "N % N == 0\n",
    "N % 1 == 0\n",
    "N % k != 0\n",
    "```\n",
    "**Per tot valor de k entre 2 i N - 1**. Si fos divisible per algun valor de k, llavors N no és primer."
   ]
  },
  {
   "cell_type": "markdown",
   "id": "42a2f675-1ab3-4e4f-adc2-6d0a3460ceaa",
   "metadata": {},
   "source": [
    "#### Exercici\n",
    "\n",
    "Escriu una funció, la signatura de la qual serà\n",
    "\n",
    "```java\n",
    "void isPrime(int n);\n",
    "```\n",
    "que imprimeixi ```true``` si n és un número primer positiu, o ```false``` si n és un número no primer o bé és 0, o bé és un enter negatiu.\n",
    "\n",
    "Per exemple:\n",
    "\n",
    "```java\n",
    "isPrime(7); //Imprimirà true\n",
    "isPrime(20); //Imprimirà false\n",
    "isPrime(0); //Imprimirà false\n",
    "isPrime(-7); //Imprimirà false\n",
    "```"
   ]
  },
  {
   "cell_type": "code",
   "execution_count": 25,
   "id": "a38d2188-d3e2-4a76-ba9c-4db50f643eba",
   "metadata": {},
   "outputs": [
    {
     "name": "stdout",
     "output_type": "stream",
     "text": [
      "true\n",
      "false\n",
      "false\n",
      "false\n"
     ]
    }
   ],
   "source": [
    "//Escriu i prova el teu codi aquí\n",
    "\n",
    "void isPrime(int n){\n",
    "    if (n % 2 != 0 && n != 0 && n > 0 ){\n",
    "        println(true);\n",
    "        }\n",
    "    \n",
    "        else{\n",
    "        println(false);\n",
    "    }\n",
    "}\n",
    "//Proves aquí\n",
    "isPrime(7); \n",
    "isPrime(20); \n",
    "isPrime(0); \n",
    "isPrime(-7); "
   ]
  },
  {
   "cell_type": "markdown",
   "id": "9db0fe46-0274-40cf-8774-2b57efb4e4a7",
   "metadata": {},
   "source": [
    "## Exercici 2"
   ]
  },
  {
   "cell_type": "markdown",
   "id": "e701dac0-7f06-4ceb-9f48-009dbfd1be73",
   "metadata": {},
   "source": [
    "Escriu una funció, la signatura de la qual serà\n",
    "\n",
    "```java\n",
    "int getMax(int[] n);\n",
    "```\n",
    "\n",
    "que retorni un enter igual al màxim de tots els enters que composen l'array."
   ]
  },
  {
   "cell_type": "code",
   "execution_count": 55,
   "id": "40fcb645-da29-41dd-ab53-8e12f7898939",
   "metadata": {},
   "outputs": [],
   "source": [
    "//Escriu i prova el teu codi aquí\n",
    "\n",
    "int getMax(int[] n){\n",
    "    int suma= 0;\n",
    "       for(int index = 0; index < n.length; index++){\n",
    "           suma++;\n",
    "    }\n",
    "    return suma;\n",
    "}\n",
    "//Crea les teves proves aquí\n",
    "int[] n= {1,3,2,4,2,8,6,8,2};"
   ]
  },
  {
   "cell_type": "code",
   "execution_count": 56,
   "id": "6bc74375-d272-42f0-be83-8351a946e549",
   "metadata": {},
   "outputs": [
    {
     "name": "stdout",
     "output_type": "stream",
     "text": [
      "La suma és igual a 9"
     ]
    }
   ],
   "source": [
    "printf(\"La suma és igual a %d\", getMax(n));"
   ]
  },
  {
   "cell_type": "markdown",
   "id": "01566c7e-828a-4ded-9da1-240f8560c7fb",
   "metadata": {},
   "source": [
    "## Exercici 3"
   ]
  },
  {
   "cell_type": "markdown",
   "id": "dd31eb52-c25a-4bdf-a125-049aaef50aa0",
   "metadata": {},
   "source": [
    "Escriu una funció, la signatura de la qual serà\n",
    "\n",
    "```java\n",
    "double getAverage(double[] d);\n",
    "```\n",
    "\n",
    "que retorni un double igual a la mitjana aritmètica de tots els elements que composen l'array."
   ]
  },
  {
   "cell_type": "code",
   "execution_count": 101,
   "id": "ace84db0-b8f9-4ba8-a33d-530cb32d6d13",
   "metadata": {},
   "outputs": [],
   "source": [
    "//Escriu i prova el teu codi aquí\n",
    "\n",
    "double getAverage(double[] d){\n",
    "     double suma = 0.0;\n",
    "     double suma2 = 0.0;\n",
    "    for(int i = 0; i < d.length; i++){\n",
    "        suma += d[i];\n",
    "        suma2 = suma / d.length;\n",
    "    }\n",
    "    return suma2;\n",
    "}\n",
    "\n",
    "double[] d = {1.0,3.0,2.0,4.0,2.0,8.0,6.0,8.0};"
   ]
  },
  {
   "cell_type": "code",
   "execution_count": 102,
   "id": "0898d369-07bc-4c45-a19c-fae433ff0eef",
   "metadata": {},
   "outputs": [
    {
     "name": "stdout",
     "output_type": "stream",
     "text": [
      "La suma és igual a 4,250000"
     ]
    }
   ],
   "source": [
    "printf(\"La suma és igual a %f\", getAverage(d));"
   ]
  },
  {
   "cell_type": "code",
   "execution_count": 98,
   "id": "3df09501-8881-4d39-bdc7-3fc3e445d4ed",
   "metadata": {},
   "outputs": [
    {
     "ename": "CompilationException",
     "evalue": "",
     "output_type": "error",
     "traceback": [
      "\u001b[1m\u001b[30m|   \u001b[1m\u001b[30mprint(\u001b[0m\u001b[1m\u001b[30m\u001b[41msuma2\u001b[0m\u001b[1m\u001b[30m);\u001b[0m",
      "\u001b[1m\u001b[31mcannot find symbol\u001b[0m",
      "\u001b[1m\u001b[31m  symbol:   variable suma2\u001b[0m",
      ""
     ]
    }
   ],
   "source": [
    "print(suma2);"
   ]
  },
  {
   "cell_type": "code",
   "execution_count": null,
   "id": "1737604e-fe94-470f-9c85-cc56de79e3f6",
   "metadata": {},
   "outputs": [],
   "source": []
  }
 ],
 "metadata": {
  "kernelspec": {
   "display_name": "Java 11",
   "language": "java",
   "name": "java"
  },
  "language_info": {
   "codemirror_mode": "java",
   "file_extension": ".jshell",
   "mimetype": "text/x-java-source",
   "name": "Java",
   "pygments_lexer": "java",
   "version": "11.0.11+9-Ubuntu-0ubuntu2.20.04"
  }
 },
 "nbformat": 4,
 "nbformat_minor": 5
}
