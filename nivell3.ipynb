{
 "cells": [
  {
   "cell_type": "markdown",
   "id": "47a95175-c703-484c-8202-f7cc8c96b687",
   "metadata": {},
   "source": [
    "# Nivell 3"
   ]
  },
  {
   "cell_type": "markdown",
   "id": "6d67f3be-852b-461c-986d-0c7e8295e426",
   "metadata": {},
   "source": [
    "## Exercici 1"
   ]
  },
  {
   "cell_type": "markdown",
   "id": "e09a0643-317c-403f-82f9-9b0445c99fd9",
   "metadata": {},
   "source": [
    "En aquest exercici has d'implementar una funció, que tindrà la següent signatura:\n",
    "\n",
    "```java\n",
    "String[] transformacio(String[] words);\n",
    "```\n",
    "\n",
    "La transformació que ha de fer aquesta funció és la següent:\n",
    "\n",
    "Ha de retornar un nou array que contingui les mateixes paraules que l'array _words_ original, amb una diferència: aquelles paraules que tinguin **un número senar** de lletres hauràn d'estar **en majúscules**."
   ]
  },
  {
   "cell_type": "markdown",
   "id": "cbfd71b4-b4e0-4d45-8a13-ced84d0366d8",
   "metadata": {},
   "source": [
    "Exemple:\n",
    "\n",
    "```java\n",
    "String [] paraules = {\"Java\", \"programming\", \"school\", \"basketball\", \"catalunya\"};\n",
    "println(Arrays.toString(transformacio(paraules)));\n",
    "```\n",
    "\n",
    "Imprimirà:\n",
    "\n",
    "```[Java, PROGRAMMING, school, basketball, CATALUNYA]```"
   ]
  },
  {
   "cell_type": "code",
   "execution_count": null,
   "id": "0c17d641-b528-4b87-b5df-dde8b4a58812",
   "metadata": {},
   "outputs": [],
   "source": [
    "String[] transformacio(String[] words){\n",
    "    //TODO\n",
    "}\n",
    "\n",
    "//Les teves proves a continuació"
   ]
  },
  {
   "cell_type": "markdown",
   "id": "47dbd957-7168-4fb8-912d-7c76769b7f19",
   "metadata": {},
   "source": [
    "## Exercici 2"
   ]
  },
  {
   "cell_type": "markdown",
   "id": "4421b0aa-09bf-4889-9611-b36129df27cb",
   "metadata": {},
   "source": [
    "Fes una funció a la qual se li passi un array d'enters, i retorni un array (també d'enters) amb tots els números de l'array original, excepte el mínim (és a dir, l'array que retorna tindrà un element menys que l'array d'entrada, i l'element a eliminar és el mínim).\n",
    "\n",
    "Has de definir i implementar la funció, i has de fer les proves suficients, en cel·les del notebook."
   ]
  },
  {
   "cell_type": "code",
   "execution_count": null,
   "id": "de371038-6c7c-467b-84f9-4d477d4e066b",
   "metadata": {},
   "outputs": [],
   "source": []
  }
 ],
 "metadata": {
  "kernelspec": {
   "display_name": "Java 11",
   "language": "java",
   "name": "java"
  },
  "language_info": {
   "codemirror_mode": "java",
   "file_extension": ".jshell",
   "mimetype": "text/x-java-source",
   "name": "Java",
   "pygments_lexer": "java",
   "version": "11.0.11+9-Ubuntu-0ubuntu2.20.04"
  }
 },
 "nbformat": 4,
 "nbformat_minor": 5
}
